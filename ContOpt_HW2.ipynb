{
 "cells": [
  {
   "cell_type": "markdown",
   "metadata": {},
   "source": [
    "# Continuous Optimisation HW1"
   ]
  },
  {
   "cell_type": "code",
   "execution_count": 1,
   "metadata": {},
   "outputs": [],
   "source": [
    "# Imports\n",
    "import numpy as np\n",
    "import scipy"
   ]
  },
  {
   "cell_type": "code",
   "execution_count": 33,
   "metadata": {},
   "outputs": [
    {
     "data": {
      "text/plain": [
       "4"
      ]
     },
     "execution_count": 33,
     "metadata": {},
     "output_type": "execute_result"
    }
   ],
   "source": [
    "# Question 1\n",
    "\n",
    "K = 4 #number of signals\n",
    "P = np.array([1,1,1,1]) #position of each signal\n",
    "y = np.array([1,1,1,1]) #observations\n",
    "def h(x: np.array):\n",
    "    return np.e**(-np.inner(x, x)/0.01)  # Always take sigma = 0.1\n",
    "\n",
    "def phi(x): \n",
    "    phi = []\n",
    "    for i in range(np.size(P)):\n",
    "        phi.append(h(P[i]-x))\n",
    "    return phi\n",
    "\n",
    "def bigphi(X):\n",
    "    bigphi = []\n",
    "    for i in range(K):\n",
    "        xc  = np.array([X[0][i], X[1][i]])\n",
    "        bigphi = bigphi+ phi(xc)\n",
    "    return bigphi\n",
    "\n",
    "def  f(X):\n",
    "    sizeP = int(np.size(P))\n",
    "    return (1/(2*sizeP))(bigphi(X)-y).T\n",
    "\n",
    "\n",
    "\n",
    "\n",
    "x= np.array([1,1])\n",
    "X= np.array([[1,2,3,4],[5,6,7,8]])\n",
    "phi(np.array([X[0][1], X[1][1]]))\n",
    "\n",
    "\n",
    "\n",
    "# def phi(x, P):\n"
   ]
  }
 ],
 "metadata": {
  "kernelspec": {
   "display_name": "contoptproj1",
   "language": "python",
   "name": "python3"
  },
  "language_info": {
   "codemirror_mode": {
    "name": "ipython",
    "version": 3
   },
   "file_extension": ".py",
   "mimetype": "text/x-python",
   "name": "python",
   "nbconvert_exporter": "python",
   "pygments_lexer": "ipython3",
   "version": "3.11.8"
  }
 },
 "nbformat": 4,
 "nbformat_minor": 2
}
