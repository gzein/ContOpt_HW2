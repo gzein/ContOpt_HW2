{
 "cells": [
  {
   "cell_type": "markdown",
   "metadata": {},
   "source": [
    "# Continuous Optimisation HW1"
   ]
  },
  {
   "cell_type": "code",
   "execution_count": null,
   "metadata": {},
   "outputs": [],
   "source": [
    "# Imports\n",
    "import numpy as np\n",
    "import scipy\n",
    "import matplotlib as plt"
   ]
  },
  {
   "cell_type": "markdown",
   "metadata": {},
   "source": [
    "# Question 1\n",
    "Implement phi(x, P), bigphi(X, P), f(X, P, y)."
   ]
  },
  {
   "cell_type": "code",
   "execution_count": null,
   "metadata": {},
   "outputs": [
    {
     "ename": "TypeError",
     "evalue": "'builtin_function_or_method' object is not subscriptable",
     "output_type": "error",
     "traceback": [
      "\u001b[1;31m---------------------------------------------------------------------------\u001b[0m",
      "\u001b[1;31mTypeError\u001b[0m                                 Traceback (most recent call last)",
      "Cell \u001b[1;32mIn[19], line 5\u001b[0m\n\u001b[0;32m      1\u001b[0m \u001b[38;5;66;03m# Question 1\u001b[39;00m\n\u001b[0;32m      2\u001b[0m \u001b[38;5;66;03m#TODO Vectorise all the functions\u001b[39;00m\n\u001b[1;32m----> 5\u001b[0m \u001b[38;5;28;01mdef\u001b[39;00m \u001b[38;5;21mh\u001b[39m(x: \u001b[43mnp\u001b[49m\u001b[38;5;241;43m.\u001b[39;49m\u001b[43marray\u001b[49m\u001b[43m[\u001b[49m\u001b[38;5;241;43m2\u001b[39;49m\u001b[43m,\u001b[49m\u001b[43m \u001b[49m\u001b[38;5;241;43m2\u001b[39;49m\u001b[43m]\u001b[49m):\n\u001b[0;32m      6\u001b[0m \u001b[38;5;250m    \u001b[39m\u001b[38;5;124;03m\"\"\"Gaussian filter\"\"\"\u001b[39;00m\n\u001b[0;32m      7\u001b[0m     \u001b[38;5;28;01mreturn\u001b[39;00m np\u001b[38;5;241m.\u001b[39me\u001b[38;5;241m*\u001b[39m\u001b[38;5;241m*\u001b[39m(\u001b[38;5;241m-\u001b[39mnp\u001b[38;5;241m.\u001b[39minner(x, x)\u001b[38;5;241m/\u001b[39m\u001b[38;5;241m0.01\u001b[39m)  \u001b[38;5;66;03m# Always take sigma = 0.1\u001b[39;00m\n",
      "\u001b[1;31mTypeError\u001b[0m: 'builtin_function_or_method' object is not subscriptable"
     ]
    }
   ],
   "source": [
    "# Question 1\n",
    "#TODO Vectorise all the functions\n",
    "\n",
    "\n",
    "def h(x: np.ndarray) -> float:\n",
    "    \"\"\"\n",
    "    Gaussian filter\n",
    "\n",
    "    :x: np.ndarray[1x2]\n",
    "    \"\"\"\n",
    "    return np.e**(-np.inner(x, x)/0.01)  # Always take sigma = 0.1\n",
    "\n",
    "\n",
    "def phi(x, P):\n",
    "    \"\"\"\n",
    "    Calculate contribution of each 'true' star to observed image\n",
    "    \n",
    "    :x: np.ndarray[1 x 2]\n",
    "    :P: np.ndarray[1 x n^2]\n",
    "    \"\"\"\n",
    "    phi = []\n",
    "    for i in range(np.size(P)):\n",
    "        phi.append(h(P[i]-x))\n",
    "    return phi\n",
    "\n",
    "\n",
    "def bigphi(X, P):\n",
    "    \"\"\"\n",
    "    Calculate image observed, based on K-star positions X\n",
    "    \n",
    "    :X: np.ndarray[2 x K]\n",
    "    :P: np.ndarray[1 x n^2]\n",
    "    \"\"\"\n",
    "    K = X.shape[1]  # Number of stars\n",
    "    bigphi = []\n",
    "    for i in range(K):\n",
    "        xc  = np.array([X[0][i], X[1][i]])\n",
    "        bigphi += phi(xc, P)\n",
    "    return bigphi\n",
    "\n",
    "\n",
    "def  f(X, P, y):\n",
    "    \"\"\"\n",
    "    Calculate squared error of estimate bigphi(X)\n",
    "    \n",
    "    :X: np.ndarray[2 x K]\n",
    "    :P: np.ndarray[1 x n^2]\n",
    "    :y: np.ndarray[1 x n^2]\n",
    "    \"\"\"\n",
    "    sizeP = int(np.size(P))\n",
    "    return (1/(2*sizeP)) * np.linalg.norm(bigphi(X, P)-y)**2\n",
    "\n",
    "\n"
   ]
  },
  {
   "cell_type": "markdown",
   "metadata": {},
   "source": [
    "# Question 2"
   ]
  },
  {
   "cell_type": "code",
   "execution_count": 13,
   "metadata": {},
   "outputs": [
    {
     "name": "stdout",
     "output_type": "stream",
     "text": [
      "[[ 0.2  -0.2  -0.2   0.2 ]\n",
      " [ 0.15  0.15 -0.15 -0.15]]\n"
     ]
    },
    {
     "ename": "ValueError",
     "evalue": "operands could not be broadcast together with shapes (4,) (2,) ",
     "output_type": "error",
     "traceback": [
      "\u001b[1;31m---------------------------------------------------------------------------\u001b[0m",
      "\u001b[1;31mValueError\u001b[0m                                Traceback (most recent call last)",
      "Cell \u001b[1;32mIn[13], line 6\u001b[0m\n\u001b[0;32m      4\u001b[0m n \u001b[38;5;241m=\u001b[39m \u001b[38;5;241m2\u001b[39m\n\u001b[0;32m      5\u001b[0m \u001b[38;5;28mprint\u001b[39m(positions)\n\u001b[1;32m----> 6\u001b[0m \u001b[38;5;28mprint\u001b[39m(\u001b[43mf\u001b[49m\u001b[43m(\u001b[49m\u001b[43mnp\u001b[49m\u001b[38;5;241;43m.\u001b[39;49m\u001b[43marray\u001b[49m\u001b[43m(\u001b[49m\u001b[43m[\u001b[49m\u001b[43m[\u001b[49m\u001b[38;5;241;43m0.2\u001b[39;49m\u001b[43m]\u001b[49m\u001b[43m,\u001b[49m\u001b[43m \u001b[49m\u001b[43m[\u001b[49m\u001b[38;5;241;43m0.2\u001b[39;49m\u001b[43m]\u001b[49m\u001b[43m]\u001b[49m\u001b[43m)\u001b[49m\u001b[43m,\u001b[49m\u001b[43m \u001b[49m\u001b[43mpositions\u001b[49m\u001b[43m,\u001b[49m\u001b[43m \u001b[49m\u001b[43my\u001b[49m\u001b[43m)\u001b[49m)\n",
      "Cell \u001b[1;32mIn[3], line 31\u001b[0m, in \u001b[0;36mf\u001b[1;34m(X, P, y)\u001b[0m\n\u001b[0;32m     29\u001b[0m \u001b[38;5;250m\u001b[39m\u001b[38;5;124;03m\"\"\"Calculate squared error of estimate bigphi(X)\"\"\"\u001b[39;00m\n\u001b[0;32m     30\u001b[0m sizeP \u001b[38;5;241m=\u001b[39m \u001b[38;5;28mint\u001b[39m(np\u001b[38;5;241m.\u001b[39msize(P))\n\u001b[1;32m---> 31\u001b[0m \u001b[38;5;28;01mreturn\u001b[39;00m (\u001b[38;5;241m1\u001b[39m\u001b[38;5;241m/\u001b[39m(\u001b[38;5;241m2\u001b[39m\u001b[38;5;241m*\u001b[39msizeP)) \u001b[38;5;241m*\u001b[39m np\u001b[38;5;241m.\u001b[39mlinalg\u001b[38;5;241m.\u001b[39mnorm(\u001b[43mbigphi\u001b[49m\u001b[43m(\u001b[49m\u001b[43mX\u001b[49m\u001b[43m,\u001b[49m\u001b[43m \u001b[49m\u001b[43mP\u001b[49m\u001b[43m)\u001b[49m\u001b[38;5;241m-\u001b[39my)\u001b[38;5;241m*\u001b[39m\u001b[38;5;241m*\u001b[39m\u001b[38;5;241m2\u001b[39m\n",
      "Cell \u001b[1;32mIn[3], line 24\u001b[0m, in \u001b[0;36mbigphi\u001b[1;34m(X, P)\u001b[0m\n\u001b[0;32m     22\u001b[0m \u001b[38;5;28;01mfor\u001b[39;00m i \u001b[38;5;129;01min\u001b[39;00m \u001b[38;5;28mrange\u001b[39m(K):\n\u001b[0;32m     23\u001b[0m     xc  \u001b[38;5;241m=\u001b[39m np\u001b[38;5;241m.\u001b[39marray([X[\u001b[38;5;241m0\u001b[39m][i], X[\u001b[38;5;241m1\u001b[39m][i]])\n\u001b[1;32m---> 24\u001b[0m     bigphi \u001b[38;5;241m+\u001b[39m\u001b[38;5;241m=\u001b[39m \u001b[43mphi\u001b[49m\u001b[43m(\u001b[49m\u001b[43mxc\u001b[49m\u001b[43m,\u001b[49m\u001b[43m \u001b[49m\u001b[43mP\u001b[49m\u001b[43m)\u001b[49m\n\u001b[0;32m     25\u001b[0m \u001b[38;5;28;01mreturn\u001b[39;00m bigphi\n",
      "Cell \u001b[1;32mIn[3], line 14\u001b[0m, in \u001b[0;36mphi\u001b[1;34m(x, P)\u001b[0m\n\u001b[0;32m     12\u001b[0m phi \u001b[38;5;241m=\u001b[39m []\n\u001b[0;32m     13\u001b[0m \u001b[38;5;28;01mfor\u001b[39;00m i \u001b[38;5;129;01min\u001b[39;00m \u001b[38;5;28mrange\u001b[39m(np\u001b[38;5;241m.\u001b[39msize(P)):\n\u001b[1;32m---> 14\u001b[0m     phi\u001b[38;5;241m.\u001b[39mappend(h(\u001b[43mP\u001b[49m\u001b[43m[\u001b[49m\u001b[43mi\u001b[49m\u001b[43m]\u001b[49m\u001b[38;5;241;43m-\u001b[39;49m\u001b[43mx\u001b[49m))\n\u001b[0;32m     15\u001b[0m \u001b[38;5;28;01mreturn\u001b[39;00m phi\n",
      "\u001b[1;31mValueError\u001b[0m: operands could not be broadcast together with shapes (4,) (2,) "
     ]
    }
   ],
   "source": [
    "true_positions = np.array([[0], [0]])\n",
    "positions = np.array([[0.2, 0.15], [-0.2, 0.15], [-0.2, -0.15], [0.2, -0.15]]).T\n",
    "y = np.array([0.2, 0.2, 0.2, 0.2]).T\n",
    "n = 2\n",
    "print(positions)\n",
    "print(f(np.array([[0.2], [0.2]]), positions, y))"
   ]
  },
  {
   "cell_type": "markdown",
   "metadata": {},
   "source": [
    "# Question 3"
   ]
  }
 ],
 "metadata": {
  "kernelspec": {
   "display_name": "Python 3",
   "language": "python",
   "name": "python3"
  },
  "language_info": {
   "codemirror_mode": {
    "name": "ipython",
    "version": 3
   },
   "file_extension": ".py",
   "mimetype": "text/x-python",
   "name": "python",
   "nbconvert_exporter": "python",
   "pygments_lexer": "ipython3",
   "version": "3.12.7"
  }
 },
 "nbformat": 4,
 "nbformat_minor": 2
}
