{
 "cells": [
  {
   "cell_type": "markdown",
   "metadata": {},
   "source": [
    "# Continuous Optimisation HW1"
   ]
  },
  {
   "cell_type": "code",
   "execution_count": null,
   "metadata": {},
   "outputs": [],
   "source": [
    "# Imports\n",
    "import numpy as np\n",
    "import scipy\n",
    "import matplotlib as plt\n",
    "\n",
    "# Define dimensions\n",
    "K = 1\n",
    "n = 2\n",
    "\n",
    "# Helper functions\n",
    "def plot_surface(f: function):\n",
    "    from matplotlib import cm\n",
    "    from matplotlib.ticker import LinearLocator\n",
    "\n",
    "    fig, ax = plt.subplots(subplot_kw={\"projection\": \"3d\"})\n",
    "\n",
    "    # Make data.\n",
    "    X = np.arange(-5, 5, 0.25)\n",
    "    Y = np.arange(-5, 5, 0.25)\n",
    "    X, Y = np.meshgrid(X, Y)\n",
    "    R = np.sqrt(X**2 + Y**2)\n",
    "    Z = np.sin(R)\n",
    "\n",
    "    # Plot the surface.\n",
    "    surf = ax.plot_surface(X, Y, Z, cmap=cm.coolwarm,\n",
    "                        linewidth=0, antialiased=False)\n",
    "\n",
    "    # Customize the z axis.\n",
    "    ax.set_zlim(-1.01, 1.01)\n",
    "    ax.zaxis.set_major_locator(LinearLocator(10))\n",
    "    # A StrMethodFormatter is used automatically\n",
    "    ax.zaxis.set_major_formatter('{x:.02f}')\n",
    "\n",
    "    # Add a color bar which maps values to colors.\n",
    "    fig.colorbar(surf, shrink=0.5, aspect=5)\n",
    "\n",
    "    plt.show()"
   ]
  },
  {
   "cell_type": "markdown",
   "metadata": {},
   "source": [
    "# Question 1\n",
    "Implement phi(x, P), bigphi(X, P), f(X, P, y)."
   ]
  },
  {
   "cell_type": "code",
   "execution_count": 64,
   "metadata": {},
   "outputs": [],
   "source": [
    "# Question 1\n",
    "#TODO Vectorise all the functions\n",
    "\n",
    "\n",
    "def h(x: np.ndarray) -> float:\n",
    "    \"\"\"\n",
    "    Gaussian filter\n",
    "\n",
    "    :x: np.ndarray[1x2]\n",
    "    \"\"\"\n",
    "    return np.e**(-np.inner(x, x)/0.01)  # Always take sigma = 0.1\n",
    "\n",
    "\n",
    "def phi(x, P):\n",
    "    \"\"\"\n",
    "    Calculate contribution of each 'true' star to observed image\n",
    "    \n",
    "    :x: np.ndarray[1 x 2]\n",
    "    :P: np.ndarray[2 x n^2]\n",
    "    \"\"\"\n",
    "    global K, n\n",
    "    _phi = np.zeros((n**2, 1))\n",
    "    for i in range(n**2):\n",
    "        _phi[i] = (h(P[:, i] - x))\n",
    "    print(\"phi function complete!\")\n",
    "    return _phi\n",
    "\n",
    "\n",
    "def bigphi(X, P):\n",
    "    \"\"\"\n",
    "    Calculate image observed, based on K-star positions X\n",
    "    \n",
    "    :X: np.ndarray[2 x K]\n",
    "    :P: np.ndarray[2 x n^2]\n",
    "    \"\"\"\n",
    "    global K, n\n",
    "    bigphi = np.zeros((n**2, 1))\n",
    "    for i in range(K):\n",
    "        bigphi += phi(X[:, i], P)\n",
    "    \n",
    "    print(\"bigphi function complete!\")\n",
    "    return bigphi\n",
    "\n",
    "\n",
    "def  f(X, P, y):\n",
    "    \"\"\"\n",
    "    Calculate squared error of estimate bigphi(X)\n",
    "    \n",
    "    :X: np.ndarray[2 x K]\n",
    "    :P: np.ndarray[2 x n^2]\n",
    "    :y: np.ndarray[1 x n^2]\n",
    "    \"\"\"\n",
    "    global K, n\n",
    "    print(bigphi(X, P))\n",
    "    return (1/(2*n**2)) * np.linalg.norm(bigphi(X, P)-y)**2\n",
    "\n",
    "\n"
   ]
  },
  {
   "cell_type": "markdown",
   "metadata": {},
   "source": [
    "# Question 2"
   ]
  },
  {
   "cell_type": "code",
   "execution_count": 75,
   "metadata": {},
   "outputs": [
    {
     "name": "stdout",
     "output_type": "stream",
     "text": [
      "phi function complete!\n",
      "bigphi function complete!\n",
      "[[1.00000000e+00]\n",
      " [1.12535175e-07]\n",
      " [1.26641655e-14]\n",
      " [1.12535175e-07]]\n",
      "phi function complete!\n",
      "bigphi function complete!\n",
      "0.09499998874648508\n"
     ]
    }
   ],
   "source": [
    "true_positions = np.array([[0], [0]])\n",
    "positions = np.array([[0.2, 0.2], [-0.2, 0.2], [-0.2, -0.2], [0.2, -0.2]]).T\n",
    "y = np.array([[0.2], [0.2], [0.2], [0.2]])\n",
    "print(f(np.array([[0.2], [0.2]]), positions, y))"
   ]
  },
  {
   "cell_type": "markdown",
   "metadata": {},
   "source": [
    "# Question 3"
   ]
  }
 ],
 "metadata": {
  "kernelspec": {
   "display_name": "Python 3",
   "language": "python",
   "name": "python3"
  },
  "language_info": {
   "codemirror_mode": {
    "name": "ipython",
    "version": 3
   },
   "file_extension": ".py",
   "mimetype": "text/x-python",
   "name": "python",
   "nbconvert_exporter": "python",
   "pygments_lexer": "ipython3",
   "version": "3.12.7"
  }
 },
 "nbformat": 4,
 "nbformat_minor": 2
}
