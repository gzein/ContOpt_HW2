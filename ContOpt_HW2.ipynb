{
 "cells": [
  {
   "cell_type": "markdown",
   "metadata": {},
   "source": [
    "# Continuous Optimisation HW1"
   ]
  },
  {
   "cell_type": "code",
   "execution_count": 2,
   "metadata": {},
   "outputs": [],
   "source": [
    "# Imports\n",
    "import numpy as np\n",
    "import scipy"
   ]
  },
  {
   "cell_type": "markdown",
   "metadata": {},
   "source": [
    "# Question 1\n",
    "Implement phi(x, P), bigphi(X, P), f(X, P, y)."
   ]
  },
  {
   "cell_type": "code",
   "execution_count": 13,
   "metadata": {},
   "outputs": [],
   "source": [
    "# Question 1\n",
    "#TODO Vectorise all the functions\n",
    "\n",
    "\n",
    "def h(x: np.array):\n",
    "    \"\"\"Gaussian filter\"\"\"\n",
    "    return np.e**(-np.inner(x, x)/0.01)  # Always take sigma = 0.1\n",
    "\n",
    "\n",
    "def phi(x, P):\n",
    "    \"\"\"Calculate contribution of each 'true' star to observed image\"\"\"\n",
    "    phi = []\n",
    "    for i in range(np.size(P)):\n",
    "        phi.append(h(P[i]-x))\n",
    "    return phi\n",
    "\n",
    "\n",
    "def bigphi(X, P):\n",
    "    \"\"\"Calculate image observed, based on K-star positions X\"\"\"\n",
    "    K = X.shape[1]  # Number of stars\n",
    "    bigphi = []\n",
    "    for i in range(K):\n",
    "        xc  = np.array([X[0][i], X[1][i]])\n",
    "        bigphi += phi(xc, P)\n",
    "    return bigphi\n",
    "\n",
    "\n",
    "def  f(X, P, y):\n",
    "    \"\"\"Calculate squared error of estimate bigphi(X)\"\"\"\n",
    "    sizeP = int(np.size(P))\n",
    "    return (1/(2*sizeP)) * np.linalg.norm(bigphi(X, P)-y)**2\n",
    "\n",
    "\n"
   ]
  },
  {
   "cell_type": "markdown",
   "metadata": {},
   "source": [
    "# Question 2"
   ]
  },
  {
   "cell_type": "markdown",
   "metadata": {},
   "source": [
    "# Question 3"
   ]
  },
  {
   "cell_type": "code",
   "execution_count": null,
   "metadata": {},
   "outputs": [],
   "source": [
    "# Question 3"
   ]
  }
 ],
 "metadata": {
  "kernelspec": {
   "display_name": "Python 3",
   "language": "python",
   "name": "python3"
  },
  "language_info": {
   "codemirror_mode": {
    "name": "ipython",
    "version": 3
   },
   "file_extension": ".py",
   "mimetype": "text/x-python",
   "name": "python",
   "nbconvert_exporter": "python",
   "pygments_lexer": "ipython3",
   "version": "3.12.7"
  }
 },
 "nbformat": 4,
 "nbformat_minor": 2
}
